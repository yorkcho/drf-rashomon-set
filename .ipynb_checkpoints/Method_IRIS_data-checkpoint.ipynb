{
 "cells": [
  {
   "cell_type": "code",
   "execution_count": 47,
   "id": "c78f92c9-e7dc-422a-a629-293542fb3561",
   "metadata": {},
   "outputs": [],
   "source": [
    "# Import the package\n",
    "import pandas as pd\n",
    "import numpy as np\n",
    "from pydrf.model import DRFModel \n",
    "from sklearn import datasets\n",
    "from sklearn.model_selection import train_test_split\n",
    "import sklearn.tree\n",
    "from sklearn.metrics import accuracy_score\n",
    "from treefarms import TREEFARMS\n",
    "from sklearn.tree import DecisionTreeClassifier\n",
    "from sklearn.metrics import accuracy_score\n",
    "\n"
   ]
  },
  {
   "cell_type": "code",
   "execution_count": 15,
   "id": "d74a5b50-6528-4c92-a36c-bf734fe0fd83",
   "metadata": {},
   "outputs": [
    {
     "data": {
      "text/html": [
       "<div>\n",
       "<style scoped>\n",
       "    .dataframe tbody tr th:only-of-type {\n",
       "        vertical-align: middle;\n",
       "    }\n",
       "\n",
       "    .dataframe tbody tr th {\n",
       "        vertical-align: top;\n",
       "    }\n",
       "\n",
       "    .dataframe thead th {\n",
       "        text-align: right;\n",
       "    }\n",
       "</style>\n",
       "<table border=\"1\" class=\"dataframe\">\n",
       "  <thead>\n",
       "    <tr style=\"text-align: right;\">\n",
       "      <th></th>\n",
       "      <th>sepal length (cm)</th>\n",
       "      <th>sepal width (cm)</th>\n",
       "      <th>petal length (cm)</th>\n",
       "      <th>petal width (cm)</th>\n",
       "      <th>target</th>\n",
       "    </tr>\n",
       "  </thead>\n",
       "  <tbody>\n",
       "    <tr>\n",
       "      <th>0</th>\n",
       "      <td>5.1</td>\n",
       "      <td>3.5</td>\n",
       "      <td>1.4</td>\n",
       "      <td>0.2</td>\n",
       "      <td>0.0</td>\n",
       "    </tr>\n",
       "    <tr>\n",
       "      <th>1</th>\n",
       "      <td>4.9</td>\n",
       "      <td>3.0</td>\n",
       "      <td>1.4</td>\n",
       "      <td>0.2</td>\n",
       "      <td>0.0</td>\n",
       "    </tr>\n",
       "    <tr>\n",
       "      <th>2</th>\n",
       "      <td>4.7</td>\n",
       "      <td>3.2</td>\n",
       "      <td>1.3</td>\n",
       "      <td>0.2</td>\n",
       "      <td>0.0</td>\n",
       "    </tr>\n",
       "    <tr>\n",
       "      <th>3</th>\n",
       "      <td>4.6</td>\n",
       "      <td>3.1</td>\n",
       "      <td>1.5</td>\n",
       "      <td>0.2</td>\n",
       "      <td>0.0</td>\n",
       "    </tr>\n",
       "    <tr>\n",
       "      <th>4</th>\n",
       "      <td>5.0</td>\n",
       "      <td>3.6</td>\n",
       "      <td>1.4</td>\n",
       "      <td>0.2</td>\n",
       "      <td>0.0</td>\n",
       "    </tr>\n",
       "  </tbody>\n",
       "</table>\n",
       "</div>"
      ],
      "text/plain": [
       "   sepal length (cm)  sepal width (cm)  petal length (cm)  petal width (cm)  \\\n",
       "0                5.1               3.5                1.4               0.2   \n",
       "1                4.9               3.0                1.4               0.2   \n",
       "2                4.7               3.2                1.3               0.2   \n",
       "3                4.6               3.1                1.5               0.2   \n",
       "4                5.0               3.6                1.4               0.2   \n",
       "\n",
       "   target  \n",
       "0     0.0  \n",
       "1     0.0  \n",
       "2     0.0  \n",
       "3     0.0  \n",
       "4     0.0  "
      ]
     },
     "execution_count": 15,
     "metadata": {},
     "output_type": "execute_result"
    }
   ],
   "source": [
    "data = datasets.load_iris()\n",
    "# iris_df = pd.DataFrame(data.data, columns=data.feature_names)\n",
    "iris_df = pd.DataFrame(data = np.c_[data['data'], data['target']],\n",
    "                       columns= data.feature_names + ['target'])\n",
    "iris_df.head()"
   ]
  },
  {
   "cell_type": "code",
   "execution_count": 16,
   "id": "d542948b-c28c-485c-8383-5ea1c8786838",
   "metadata": {},
   "outputs": [
    {
     "name": "stdout",
     "output_type": "stream",
     "text": [
      "Index(['sepal length (cm)', 'sepal width (cm)', 'petal length (cm)',\n",
      "       'petal width (cm)'],\n",
      "      dtype='object')\n"
     ]
    },
    {
     "data": {
      "text/plain": [
       "0      0.0\n",
       "1      0.0\n",
       "2      0.0\n",
       "3      0.0\n",
       "4      0.0\n",
       "      ... \n",
       "145    2.0\n",
       "146    2.0\n",
       "147    2.0\n",
       "148    2.0\n",
       "149    2.0\n",
       "Name: target, Length: 150, dtype: float64"
      ]
     },
     "execution_count": 16,
     "metadata": {},
     "output_type": "execute_result"
    }
   ],
   "source": [
    "X, y = iris_df.iloc[:, :-1], iris_df.iloc[:, -1]\n",
    "print(X.columns)\n",
    "y"
   ]
  },
  {
   "cell_type": "code",
   "execution_count": 17,
   "id": "59398482-99ec-4f87-b78d-8e97b6313418",
   "metadata": {},
   "outputs": [
    {
     "name": "stdout",
     "output_type": "stream",
     "text": [
      "   sepal length (cm)_0  sepal length (cm)_1  sepal length (cm)_2  \\\n",
      "0                    1                    0                    0   \n",
      "1                    1                    0                    0   \n",
      "2                    1                    0                    0   \n",
      "3                    1                    0                    0   \n",
      "4                    1                    0                    0   \n",
      "\n",
      "   sepal width (cm)_0  sepal width (cm)_1  sepal width (cm)_2  \\\n",
      "0                   0                   0                   1   \n",
      "1                   0                   1                   0   \n",
      "2                   0                   1                   0   \n",
      "3                   0                   1                   0   \n",
      "4                   0                   0                   1   \n",
      "\n",
      "   petal length (cm)_0  petal length (cm)_1  petal length (cm)_2  \\\n",
      "0                    1                    0                    0   \n",
      "1                    1                    0                    0   \n",
      "2                    1                    0                    0   \n",
      "3                    1                    0                    0   \n",
      "4                    1                    0                    0   \n",
      "\n",
      "   petal width (cm)_0  petal width (cm)_1  petal width (cm)_2  \n",
      "0                   1                   0                   0  \n",
      "1                   1                   0                   0  \n",
      "2                   1                   0                   0  \n",
      "3                   1                   0                   0  \n",
      "4                   1                   0                   0  \n"
     ]
    }
   ],
   "source": [
    "for col in X.columns:\n",
    "    # 使用 qcut 分為三個等分\n",
    "    X[col + '_bin'] = pd.qcut(X[col], 3, labels=False, duplicates='drop')\n",
    "    # 進行 one-hot 編碼\n",
    "    dummies = pd.get_dummies(X[col + '_bin'], prefix=col)\n",
    "    X = pd.concat([X, dummies], axis=1)\n",
    "    # 刪除原始的分箱特徵\n",
    "    X.drop(col + '_bin', axis=1, inplace=True)\n",
    "    X.drop(col, axis=1, inplace=True)\n",
    "\n",
    "print(X.head())"
   ]
  },
  {
   "cell_type": "code",
   "execution_count": 5,
   "id": "f4a6a314-2867-4681-9da1-a65d0bf2a98b",
   "metadata": {},
   "outputs": [
    {
     "name": "stdout",
     "output_type": "stream",
     "text": [
      "Layer 0 training...finished.\n",
      "Layer 1 training...finished.\n",
      "Layer 2 training...finished.\n",
      "Layer 3 training...finished.\n",
      "Layer 4 training...finished.\n"
     ]
    }
   ],
   "source": [
    "# Define the structure of DRF\n",
    "param_list = [\n",
    "    [{\"max_leaf_nodes\":6, \"n_estimators\":100, \"max_features\":0.8}],\n",
    "    [{\"max_leaf_nodes\":6, \"n_estimators\":100, \"max_features\":0.8}],\n",
    "    [{\"max_leaf_nodes\":6, \"n_estimators\":100, \"max_features\":0.8}],\n",
    "    [{\"max_leaf_nodes\":2, \"n_estimators\":100, \"max_features\":0.8}],\n",
    "    [{\"max_leaf_nodes\":2, \"n_estimators\":100, \"max_features\":0.8}]\n",
    "    ]\n",
    "\n",
    "# Fit the model\n",
    "drf = DRFModel(parallel_cores=5, parameter_list = param_list)\n",
    "drf_model = drf.fit(X, y)\n"
   ]
  },
  {
   "cell_type": "code",
   "execution_count": 6,
   "id": "32a7fdcc-77d9-4c37-8e6c-48b335e99e8b",
   "metadata": {},
   "outputs": [
    {
     "name": "stdout",
     "output_type": "stream",
     "text": [
      "decision_tree predict accuarcy: 0.96\n"
     ]
    }
   ],
   "source": [
    "Decision_tree = DecisionTreeClassifier(max_depth=2)\n",
    "Decision_tree.fit(X, y)\n",
    "print(\"decision_tree predict accuarcy:\", Decision_tree.score(X, y))\n",
    "    "
   ]
  },
  {
   "cell_type": "code",
   "execution_count": 13,
   "id": "0c0293b8-606d-4b2d-990c-bdf1b01181a1",
   "metadata": {},
   "outputs": [
    {
     "name": "stdout",
     "output_type": "stream",
     "text": [
      "Index(['sepal length (cm)', 'sepal width (cm)', 'petal length (cm)',\n",
      "       'petal width (cm)'],\n",
      "      dtype='object')\n"
     ]
    },
    {
     "data": {
      "text/plain": [
       "[Text(0.4, 0.8333333333333334, 'x[3] <= 0.8\\ngini = 0.667\\nsamples = 150\\nvalue = [50, 50, 50]'),\n",
       " Text(0.2, 0.5, 'gini = 0.0\\nsamples = 50\\nvalue = [50, 0, 0]'),\n",
       " Text(0.6, 0.5, 'x[3] <= 1.75\\ngini = 0.5\\nsamples = 100\\nvalue = [0, 50, 50]'),\n",
       " Text(0.4, 0.16666666666666666, 'gini = 0.168\\nsamples = 54\\nvalue = [0, 49, 5]'),\n",
       " Text(0.8, 0.16666666666666666, 'gini = 0.043\\nsamples = 46\\nvalue = [0, 1, 45]')]"
      ]
     },
     "execution_count": 13,
     "metadata": {},
     "output_type": "execute_result"
    },
    {
     "data": {
      "image/png": "[encoded data removed]",
      "text/plain": [
       "<Figure size 432x288 with 1 Axes>"
      ]
     },
     "metadata": {
      "needs_background": "light"
     },
     "output_type": "display_data"
    }
   ],
   "source": [
    "# import sklearn.tree\n",
    "# X, y = iris_df.iloc[:, :-1], iris_df.iloc[:, -1]\n",
    "# print(X.columns)\n",
    "# Decision_tree = DecisionTreeClassifier(max_depth=2)\n",
    "# Decision_tree.fit(X, y)\n",
    "# sklearn.tree.plot_tree(Decision_tree)"
   ]
  },
  {
   "cell_type": "code",
   "execution_count": 41,
   "id": "a94a2dbe-ce35-4e01-8e8f-09079a2329fe",
   "metadata": {},
   "outputs": [
    {
     "name": "stdout",
     "output_type": "stream",
     "text": [
      "Transforming data...finished.\n"
     ]
    }
   ],
   "source": [
    "transform_train = drf_model.transform_data(X.values, stop_layer = 5)\n"
   ]
  },
  {
   "cell_type": "code",
   "execution_count": 46,
   "id": "01c2c3ca-a0c6-4859-87d6-f7813f26b7a2",
   "metadata": {},
   "outputs": [
    {
     "data": {
      "text/plain": [
       "(150, 100)"
      ]
     },
     "execution_count": 46,
     "metadata": {},
     "output_type": "execute_result"
    }
   ],
   "source": [
    "transform_train.shape"
   ]
  },
  {
   "cell_type": "code",
   "execution_count": 44,
   "id": "a9bf6c51-31ec-4dfc-8f6c-ee251f786f21",
   "metadata": {},
   "outputs": [
    {
     "data": {
      "text/plain": [
       "[Text(0.4, 0.8333333333333334, 'x[77] <= 1.5\\ngini = 0.667\\nsamples = 150\\nvalue = [50, 50, 50]'),\n",
       " Text(0.2, 0.5, 'gini = 0.0\\nsamples = 50\\nvalue = [50, 0, 0]'),\n",
       " Text(0.6, 0.5, 'x[5] <= 1.5\\ngini = 0.5\\nsamples = 100\\nvalue = [0, 50, 50]'),\n",
       " Text(0.4, 0.16666666666666666, 'gini = 0.0\\nsamples = 47\\nvalue = [0, 47, 0]'),\n",
       " Text(0.8, 0.16666666666666666, 'gini = 0.107\\nsamples = 53\\nvalue = [0, 3, 50]')]"
      ]
     },
     "execution_count": 44,
     "metadata": {},
     "output_type": "execute_result"
    },
    {
     "data": {
      "image/png": "[encoded data removed]",
      "text/plain": [
       "<Figure size 432x288 with 1 Axes>"
      ]
     },
     "metadata": {
      "needs_background": "light"
     },
     "output_type": "display_data"
    }
   ],
   "source": [
    "# drf+tree \n",
    "Decision_tree = DecisionTreeClassifier(max_depth=2)\n",
    "Decision_tree.fit(transform_train, y)\n",
    "sklearn.tree.plot_tree(Decision_tree)"
   ]
  },
  {
   "cell_type": "code",
   "execution_count": 39,
   "id": "631217e1-727a-4cd8-b5a6-5f3ee5fd24fd",
   "metadata": {},
   "outputs": [
    {
     "data": {
      "text/plain": [
       "[Text(0.4, 0.8333333333333334, 'x[36] <= 1.5\\ngini = 0.667\\nsamples = 150\\nvalue = [50, 50, 50]'),\n",
       " Text(0.2, 0.5, 'gini = 0.0\\nsamples = 50\\nvalue = [50, 0, 0]'),\n",
       " Text(0.6, 0.5, 'x[40] <= 1.5\\ngini = 0.5\\nsamples = 100\\nvalue = [0, 50, 50]'),\n",
       " Text(0.4, 0.16666666666666666, 'gini = 0.0\\nsamples = 47\\nvalue = [0, 47, 0]'),\n",
       " Text(0.8, 0.16666666666666666, 'gini = 0.107\\nsamples = 53\\nvalue = [0, 3, 50]')]"
      ]
     },
     "execution_count": 39,
     "metadata": {},
     "output_type": "execute_result"
    },
    {
     "data": {
      "image/png": "[encoded data removed]",
      "text/plain": [
       "<Figure size 432x288 with 1 Axes>"
      ]
     },
     "metadata": {
      "needs_background": "light"
     },
     "output_type": "display_data"
    }
   ],
   "source": [
    "# transform_train[0]\n",
    "sklearn.tree.plot_tree(Decision_tree)"
   ]
  },
  {
   "cell_type": "code",
   "execution_count": null,
   "id": "140e5244-d3b2-4a0b-bc1a-4201f11c238e",
   "metadata": {},
   "outputs": [],
   "source": []
  },
  {
   "cell_type": "code",
   "execution_count": 38,
   "id": "adf41cdb-5bf3-416f-bedb-4544daeb6a71",
   "metadata": {},
   "outputs": [
    {
     "name": "stdout",
     "output_type": "stream",
     "text": [
      "  (0, 0)\t1\n",
      "  (0, 1)\t1\n"
     ]
    }
   ],
   "source": [
    "print(Decision_tree.decision_path(transform_train[0].reshape(1,-1)))"
   ]
  }
 ],
 "metadata": {
  "kernelspec": {
   "display_name": "Pytorch",
   "language": "python",
   "name": "pytorch"
  },
  "language_info": {
   "codemirror_mode": {
    "name": "ipython",
    "version": 3
   },
   "file_extension": ".py",
   "mimetype": "text/x-python",
   "name": "python",
   "nbconvert_exporter": "python",
   "pygments_lexer": "ipython3",
   "version": "3.9.7"
  }
 },
 "nbformat": 4,
 "nbformat_minor": 5
}
