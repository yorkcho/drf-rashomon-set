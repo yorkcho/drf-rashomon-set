{
 "cells": [
  {
   "cell_type": "code",
   "execution_count": 1,
   "id": "c78f92c9-e7dc-422a-a629-293542fb3561",
   "metadata": {},
   "outputs": [],
   "source": [
    "# Import the package\n",
    "import pandas as pd\n",
    "import numpy as np\n",
    "from pydrf.model import DRFModel \n",
    "from sklearn import datasets\n",
    "from sklearn.model_selection import train_test_split\n",
    "import sklearn.tree\n",
    "from treefarms import TREEFARMS\n",
    "from sklearn.tree import DecisionTreeClassifier\n",
    "from sklearn.metrics import accuracy_score\n",
    "from pydrf.order import CategoryOrderEncoder\n"
   ]
  },
  {
   "cell_type": "code",
   "execution_count": 2,
   "id": "d891e4f2-7c69-4b57-bd13-131ec51cd21c",
   "metadata": {},
   "outputs": [],
   "source": [
    "from ucimlrepo import fetch_ucirepo \n",
    "# fetch dataset \n",
    "car_evaluation = fetch_ucirepo(id=19) \n",
    "# data (as pandas dataframes) \n",
    "car_X = car_evaluation.data.features \n",
    "car_y = car_evaluation.data.targets \n"
   ]
  },
  {
   "cell_type": "code",
   "execution_count": 3,
   "id": "22f911bf-a99d-497a-bfe8-f0632769d9f1",
   "metadata": {},
   "outputs": [],
   "source": [
    "# len(X.columns)\n",
    "for i in car_X.columns:\n",
    "    temp = car_X.copy()\n",
    "    temp[i] = car_X[i].astype(str)\n",
    "X = temp"
   ]
  },
  {
   "cell_type": "code",
   "execution_count": 4,
   "id": "155aa8ac-bad3-45cf-ad45-7298b579847f",
   "metadata": {},
   "outputs": [],
   "source": [
    "\n",
    "# X['buying'] = X['buying'].astype(str)\n",
    "# X['maint'] = X['maint'].astype(str)\n",
    "# X['lug_boot'] = X['lug_boot'].astype(str)\n",
    "# X['safety'] = X['safety'].astype(str)\n",
    "# X['doors'] = X['doors'].astype(str)\n",
    "# X['persons'] = X['persons'].astype(str)\n",
    "# # y['class'] = y['class'].astype(str)"
   ]
  },
  {
   "cell_type": "code",
   "execution_count": 5,
   "id": "d5253d07-cc15-4f69-8c07-29b3fb7c11b7",
   "metadata": {},
   "outputs": [
    {
     "name": "stderr",
     "output_type": "stream",
     "text": [
      "/opt/miniconda3/envs/Pytorch/lib/python3.9/site-packages/sklearn/preprocessing/_label.py:134: DataConversionWarning: A column-vector y was passed when a 1d array was expected. Please change the shape of y to (n_samples, ), for example using ravel().\n",
      "  y = column_or_1d(y, dtype=self.classes_.dtype, warn=True)\n"
     ]
    },
    {
     "data": {
      "text/plain": [
       "array([0, 1, 2, 3])"
      ]
     },
     "execution_count": 5,
     "metadata": {},
     "output_type": "execute_result"
    }
   ],
   "source": [
    "# X.columns[]\n",
    "from sklearn.preprocessing import LabelEncoder\n",
    "le = LabelEncoder()\n",
    "le.fit(['acc', 'good', 'unacc', 'vgood'])\n",
    "y= le.transform(car_y)\n",
    "np.unique(y)"
   ]
  },
  {
   "cell_type": "code",
   "execution_count": 6,
   "id": "d502a73e-6afd-44c8-b437-fcf3163fe7aa",
   "metadata": {},
   "outputs": [],
   "source": [
    "# category encoder\n",
    "encoder = CategoryOrderEncoder()\n",
    "categories =  X.columns[X.dtypes== \"object\"]\n",
    "encoder.fit(X, y, categories)\n",
    "X = encoder.transform(X)\n",
    "y = np.ravel(y)"
   ]
  },
  {
   "cell_type": "code",
   "execution_count": 7,
   "id": "beb0bebd-0073-4a2d-88b2-647482c92029",
   "metadata": {},
   "outputs": [
    {
     "data": {
      "text/plain": [
       "array([2, 2, 2, ..., 2, 1, 3])"
      ]
     },
     "execution_count": 7,
     "metadata": {},
     "output_type": "execute_result"
    }
   ],
   "source": [
    "y"
   ]
  },
  {
   "cell_type": "code",
   "execution_count": 8,
   "id": "d8f3f322-43d0-495f-b3b0-fcadfa748900",
   "metadata": {},
   "outputs": [
    {
     "name": "stdout",
     "output_type": "stream",
     "text": [
      "Layer 0 training...finished.\n",
      "Layer 1 training...finished.\n",
      "Layer 2 training...finished.\n",
      "Layer 3 training...finished.\n",
      "Layer 4 training...finished.\n"
     ]
    }
   ],
   "source": [
    "# Define the structure of DRF\n",
    "param_list = [\n",
    "    [{\"max_leaf_nodes\":6, \"n_estimators\":100, \"max_features\":0.8}],\n",
    "    [{\"max_leaf_nodes\":6, \"n_estimators\":100, \"max_features\":0.8}],\n",
    "    [{\"max_leaf_nodes\":6, \"n_estimators\":100, \"max_features\":0.8}],\n",
    "    [{\"max_leaf_nodes\":6, \"n_estimators\":100, \"max_features\":0.8}],\n",
    "    [{\"max_leaf_nodes\":6, \"n_estimators\":100, \"max_features\":0.8}]\n",
    "    ]\n",
    "\n",
    "# Fit the model\n",
    "drf = DRFModel(parallel_cores=5, parameter_list = param_list)\n",
    "drf_model = drf.fit(X, y)\n"
   ]
  },
  {
   "cell_type": "code",
   "execution_count": 9,
   "id": "79eda1a6-1158-4355-a0dc-ebea375472a7",
   "metadata": {},
   "outputs": [
    {
     "name": "stdout",
     "output_type": "stream",
     "text": [
      "Transforming data...finished.\n"
     ]
    },
    {
     "data": {
      "text/html": [
       "<style>#sk-container-id-1 {color: black;background-color: white;}#sk-container-id-1 pre{padding: 0;}#sk-container-id-1 div.sk-toggleable {background-color: white;}#sk-container-id-1 label.sk-toggleable__label {cursor: pointer;display: block;width: 100%;margin-bottom: 0;padding: 0.3em;box-sizing: border-box;text-align: center;}#sk-container-id-1 label.sk-toggleable__label-arrow:before {content: \"▸\";float: left;margin-right: 0.25em;color: #696969;}#sk-container-id-1 label.sk-toggleable__label-arrow:hover:before {color: black;}#sk-container-id-1 div.sk-estimator:hover label.sk-toggleable__label-arrow:before {color: black;}#sk-container-id-1 div.sk-toggleable__content {max-height: 0;max-width: 0;overflow: hidden;text-align: left;background-color: #f0f8ff;}#sk-container-id-1 div.sk-toggleable__content pre {margin: 0.2em;color: black;border-radius: 0.25em;background-color: #f0f8ff;}#sk-container-id-1 input.sk-toggleable__control:checked~div.sk-toggleable__content {max-height: 200px;max-width: 100%;overflow: auto;}#sk-container-id-1 input.sk-toggleable__control:checked~label.sk-toggleable__label-arrow:before {content: \"▾\";}#sk-container-id-1 div.sk-estimator input.sk-toggleable__control:checked~label.sk-toggleable__label {background-color: #d4ebff;}#sk-container-id-1 div.sk-label input.sk-toggleable__control:checked~label.sk-toggleable__label {background-color: #d4ebff;}#sk-container-id-1 input.sk-hidden--visually {border: 0;clip: rect(1px 1px 1px 1px);clip: rect(1px, 1px, 1px, 1px);height: 1px;margin: -1px;overflow: hidden;padding: 0;position: absolute;width: 1px;}#sk-container-id-1 div.sk-estimator {font-family: monospace;background-color: #f0f8ff;border: 1px dotted black;border-radius: 0.25em;box-sizing: border-box;margin-bottom: 0.5em;}#sk-container-id-1 div.sk-estimator:hover {background-color: #d4ebff;}#sk-container-id-1 div.sk-parallel-item::after {content: \"\";width: 100%;border-bottom: 1px solid gray;flex-grow: 1;}#sk-container-id-1 div.sk-label:hover label.sk-toggleable__label {background-color: #d4ebff;}#sk-container-id-1 div.sk-serial::before {content: \"\";position: absolute;border-left: 1px solid gray;box-sizing: border-box;top: 0;bottom: 0;left: 50%;z-index: 0;}#sk-container-id-1 div.sk-serial {display: flex;flex-direction: column;align-items: center;background-color: white;padding-right: 0.2em;padding-left: 0.2em;position: relative;}#sk-container-id-1 div.sk-item {position: relative;z-index: 1;}#sk-container-id-1 div.sk-parallel {display: flex;align-items: stretch;justify-content: center;background-color: white;position: relative;}#sk-container-id-1 div.sk-item::before, #sk-container-id-1 div.sk-parallel-item::before {content: \"\";position: absolute;border-left: 1px solid gray;box-sizing: border-box;top: 0;bottom: 0;left: 50%;z-index: -1;}#sk-container-id-1 div.sk-parallel-item {display: flex;flex-direction: column;z-index: 1;position: relative;background-color: white;}#sk-container-id-1 div.sk-parallel-item:first-child::after {align-self: flex-end;width: 50%;}#sk-container-id-1 div.sk-parallel-item:last-child::after {align-self: flex-start;width: 50%;}#sk-container-id-1 div.sk-parallel-item:only-child::after {width: 0;}#sk-container-id-1 div.sk-dashed-wrapped {border: 1px dashed gray;margin: 0 0.4em 0.5em 0.4em;box-sizing: border-box;padding-bottom: 0.4em;background-color: white;}#sk-container-id-1 div.sk-label label {font-family: monospace;font-weight: bold;display: inline-block;line-height: 1.2em;}#sk-container-id-1 div.sk-label-container {text-align: center;}#sk-container-id-1 div.sk-container {/* jupyter's `normalize.less` sets `[hidden] { display: none; }` but bootstrap.min.css set `[hidden] { display: none !important; }` so we also need the `!important` here to be able to override the default hidden behavior on the sphinx rendered scikit-learn.org. See: https://github.com/scikit-learn/scikit-learn/issues/21755 */display: inline-block !important;position: relative;}#sk-container-id-1 div.sk-text-repr-fallback {display: none;}</style><div id=\"sk-container-id-1\" class=\"sk-top-container\"><div class=\"sk-text-repr-fallback\"><pre>DecisionTreeClassifier(max_depth=2)</pre><b>In a Jupyter environment, please rerun this cell to show the HTML representation or trust the notebook. <br />On GitHub, the HTML representation is unable to render, please try loading this page with nbviewer.org.</b></div><div class=\"sk-container\" hidden><div class=\"sk-item\"><div class=\"sk-estimator sk-toggleable\"><input class=\"sk-toggleable__control sk-hidden--visually\" id=\"sk-estimator-id-1\" type=\"checkbox\" checked><label for=\"sk-estimator-id-1\" class=\"sk-toggleable__label sk-toggleable__label-arrow\">DecisionTreeClassifier</label><div class=\"sk-toggleable__content\"><pre>DecisionTreeClassifier(max_depth=2)</pre></div></div></div></div></div>"
      ],
      "text/plain": [
       "DecisionTreeClassifier(max_depth=2)"
      ]
     },
     "execution_count": 9,
     "metadata": {},
     "output_type": "execute_result"
    }
   ],
   "source": [
    "# 5th layer + decision tree as empirical risk minimizer model\n",
    "transform_train = drf_model.transform_data(X.values, stop_layer = 5)\n",
    "standard_tree = DecisionTreeClassifier(max_depth=2)\n",
    "standard_tree.fit(transform_train, y)\n"
   ]
  },
  {
   "cell_type": "code",
   "execution_count": 10,
   "id": "9df8c0f5-2ce4-444b-9f3a-4d2118a82c4c",
   "metadata": {},
   "outputs": [
    {
     "name": "stdout",
     "output_type": "stream",
     "text": [
      "0.8900462962962963\n"
     ]
    }
   ],
   "source": [
    "print(standard_tree.score(transform_train,y))"
   ]
  },
  {
   "cell_type": "code",
   "execution_count": 11,
   "id": "b0c82fff-cd09-4da0-ab61-a911bf79fbf3",
   "metadata": {},
   "outputs": [],
   "source": [
    "from sklearn.metrics import log_loss\n",
    "# standard = log_loss(y, standard_tree.predict_proba(transform_train))\n",
    "# print(standard)\n",
    "# print(standard*1.1)\n",
    "# sklearn.tree.plot_tree(standard_tree)"
   ]
  },
  {
   "cell_type": "code",
   "execution_count": 12,
   "id": "efbfd0ac-7e09-4c2b-a60d-c3bc2f51bf2c",
   "metadata": {},
   "outputs": [
    {
     "name": "stdout",
     "output_type": "stream",
     "text": [
      "layer: 0\n",
      "Transforming data...finished.\n",
      "0.7777777777777778\n",
      "0.5055150602070236\n",
      "layer: 1\n",
      "Transforming data...finished.\n",
      "0.84375\n",
      "0.3583906816978359\n",
      "layer: 2\n",
      "Transforming data...finished.\n",
      "0.9108796296296297\n",
      "0.2679427197038982\n",
      "layer: 3\n",
      "Transforming data...finished.\n",
      "0.9079861111111112\n",
      "0.26443574359638927\n",
      "layer: 4\n",
      "Transforming data...finished.\n",
      "0.8796296296296297\n",
      "0.2836344361887734\n",
      "layer: 5\n",
      "Transforming data...finished.\n",
      "0.8900462962962963\n",
      "0.27475248256334484\n"
     ]
    }
   ],
   "source": [
    "# check each layer + decision tree\n",
    "for layer in [0,1,2,3,4,5]:\n",
    "    print(\"layer:\",layer)\n",
    "    transform_train = drf_model.transform_data(X.values, stop_layer = layer)\n",
    "    final_tree = DecisionTreeClassifier(max_depth=2)\n",
    "    final_tree.fit(transform_train, y)\n",
    "    print(final_tree.score(transform_train,y))\n",
    "    loss = log_loss(y, final_tree.predict_proba(transform_train))\n",
    "    print(loss)"
   ]
  },
  {
   "cell_type": "markdown",
   "id": "495cad2e-fd10-4e3b-891f-88cae1eeb24e",
   "metadata": {
    "jp-MarkdownHeadingCollapsed": true,
    "tags": []
   },
   "source": [
    "> 上面代表第三層的表徵已經夠強，以下以第三層表建立的樹為optimal"
   ]
  },
  {
   "cell_type": "code",
   "execution_count": 13,
   "id": "751beddd-0618-453c-a589-38bbb3f3d108",
   "metadata": {},
   "outputs": [
    {
     "name": "stdout",
     "output_type": "stream",
     "text": [
      "Transforming data...finished.\n"
     ]
    },
    {
     "data": {
      "text/html": [
       "<style>#sk-container-id-2 {color: black;background-color: white;}#sk-container-id-2 pre{padding: 0;}#sk-container-id-2 div.sk-toggleable {background-color: white;}#sk-container-id-2 label.sk-toggleable__label {cursor: pointer;display: block;width: 100%;margin-bottom: 0;padding: 0.3em;box-sizing: border-box;text-align: center;}#sk-container-id-2 label.sk-toggleable__label-arrow:before {content: \"▸\";float: left;margin-right: 0.25em;color: #696969;}#sk-container-id-2 label.sk-toggleable__label-arrow:hover:before {color: black;}#sk-container-id-2 div.sk-estimator:hover label.sk-toggleable__label-arrow:before {color: black;}#sk-container-id-2 div.sk-toggleable__content {max-height: 0;max-width: 0;overflow: hidden;text-align: left;background-color: #f0f8ff;}#sk-container-id-2 div.sk-toggleable__content pre {margin: 0.2em;color: black;border-radius: 0.25em;background-color: #f0f8ff;}#sk-container-id-2 input.sk-toggleable__control:checked~div.sk-toggleable__content {max-height: 200px;max-width: 100%;overflow: auto;}#sk-container-id-2 input.sk-toggleable__control:checked~label.sk-toggleable__label-arrow:before {content: \"▾\";}#sk-container-id-2 div.sk-estimator input.sk-toggleable__control:checked~label.sk-toggleable__label {background-color: #d4ebff;}#sk-container-id-2 div.sk-label input.sk-toggleable__control:checked~label.sk-toggleable__label {background-color: #d4ebff;}#sk-container-id-2 input.sk-hidden--visually {border: 0;clip: rect(1px 1px 1px 1px);clip: rect(1px, 1px, 1px, 1px);height: 1px;margin: -1px;overflow: hidden;padding: 0;position: absolute;width: 1px;}#sk-container-id-2 div.sk-estimator {font-family: monospace;background-color: #f0f8ff;border: 1px dotted black;border-radius: 0.25em;box-sizing: border-box;margin-bottom: 0.5em;}#sk-container-id-2 div.sk-estimator:hover {background-color: #d4ebff;}#sk-container-id-2 div.sk-parallel-item::after {content: \"\";width: 100%;border-bottom: 1px solid gray;flex-grow: 1;}#sk-container-id-2 div.sk-label:hover label.sk-toggleable__label {background-color: #d4ebff;}#sk-container-id-2 div.sk-serial::before {content: \"\";position: absolute;border-left: 1px solid gray;box-sizing: border-box;top: 0;bottom: 0;left: 50%;z-index: 0;}#sk-container-id-2 div.sk-serial {display: flex;flex-direction: column;align-items: center;background-color: white;padding-right: 0.2em;padding-left: 0.2em;position: relative;}#sk-container-id-2 div.sk-item {position: relative;z-index: 1;}#sk-container-id-2 div.sk-parallel {display: flex;align-items: stretch;justify-content: center;background-color: white;position: relative;}#sk-container-id-2 div.sk-item::before, #sk-container-id-2 div.sk-parallel-item::before {content: \"\";position: absolute;border-left: 1px solid gray;box-sizing: border-box;top: 0;bottom: 0;left: 50%;z-index: -1;}#sk-container-id-2 div.sk-parallel-item {display: flex;flex-direction: column;z-index: 1;position: relative;background-color: white;}#sk-container-id-2 div.sk-parallel-item:first-child::after {align-self: flex-end;width: 50%;}#sk-container-id-2 div.sk-parallel-item:last-child::after {align-self: flex-start;width: 50%;}#sk-container-id-2 div.sk-parallel-item:only-child::after {width: 0;}#sk-container-id-2 div.sk-dashed-wrapped {border: 1px dashed gray;margin: 0 0.4em 0.5em 0.4em;box-sizing: border-box;padding-bottom: 0.4em;background-color: white;}#sk-container-id-2 div.sk-label label {font-family: monospace;font-weight: bold;display: inline-block;line-height: 1.2em;}#sk-container-id-2 div.sk-label-container {text-align: center;}#sk-container-id-2 div.sk-container {/* jupyter's `normalize.less` sets `[hidden] { display: none; }` but bootstrap.min.css set `[hidden] { display: none !important; }` so we also need the `!important` here to be able to override the default hidden behavior on the sphinx rendered scikit-learn.org. See: https://github.com/scikit-learn/scikit-learn/issues/21755 */display: inline-block !important;position: relative;}#sk-container-id-2 div.sk-text-repr-fallback {display: none;}</style><div id=\"sk-container-id-2\" class=\"sk-top-container\"><div class=\"sk-text-repr-fallback\"><pre>DecisionTreeClassifier(max_depth=2)</pre><b>In a Jupyter environment, please rerun this cell to show the HTML representation or trust the notebook. <br />On GitHub, the HTML representation is unable to render, please try loading this page with nbviewer.org.</b></div><div class=\"sk-container\" hidden><div class=\"sk-item\"><div class=\"sk-estimator sk-toggleable\"><input class=\"sk-toggleable__control sk-hidden--visually\" id=\"sk-estimator-id-2\" type=\"checkbox\" checked><label for=\"sk-estimator-id-2\" class=\"sk-toggleable__label sk-toggleable__label-arrow\">DecisionTreeClassifier</label><div class=\"sk-toggleable__content\"><pre>DecisionTreeClassifier(max_depth=2)</pre></div></div></div></div></div>"
      ],
      "text/plain": [
       "DecisionTreeClassifier(max_depth=2)"
      ]
     },
     "execution_count": 13,
     "metadata": {},
     "output_type": "execute_result"
    }
   ],
   "source": [
    "transform_train = drf_model.transform_data(X.values, stop_layer = 2)\n",
    "final_tree = DecisionTreeClassifier(max_depth=2)\n",
    "final_tree.fit(transform_train, y)"
   ]
  },
  {
   "cell_type": "code",
   "execution_count": 14,
   "id": "d84fa030-c5f2-43d3-bc43-3eff119c6a66",
   "metadata": {},
   "outputs": [
    {
     "name": "stdout",
     "output_type": "stream",
     "text": [
      "acc:\n",
      "0.2679427197038982\n",
      "0.2947369916742881\n"
     ]
    },
    {
     "data": {
      "text/plain": [
       "[Text(0.5, 0.8333333333333334, 'x[38] <= 3.5\\ngini = 0.457\\nsamples = 1728\\nvalue = [384, 69, 1210, 65]'),\n",
       " Text(0.25, 0.5, 'x[51] <= 3.5\\ngini = 0.505\\nsamples = 536\\nvalue = [363, 69, 39, 65]'),\n",
       " Text(0.125, 0.16666666666666666, 'gini = 0.371\\nsamples = 456\\nvalue = [357, 23, 37, 39]'),\n",
       " Text(0.375, 0.16666666666666666, 'gini = 0.558\\nsamples = 80\\nvalue = [6, 46, 2, 26]'),\n",
       " Text(0.75, 0.5, 'x[32] <= 3.5\\ngini = 0.035\\nsamples = 1192\\nvalue = [21, 0, 1171, 0]'),\n",
       " Text(0.625, 0.16666666666666666, 'gini = 0.441\\nsamples = 64\\nvalue = [21, 0, 43, 0]'),\n",
       " Text(0.875, 0.16666666666666666, 'gini = 0.0\\nsamples = 1128\\nvalue = [0, 0, 1128, 0]')]"
      ]
     },
     "execution_count": 14,
     "metadata": {},
     "output_type": "execute_result"
    },
    {
     "data": {
      "image/png": "[encoded data removed]",
      "text/plain": [
       "<Figure size 432x288 with 1 Axes>"
      ]
     },
     "metadata": {
      "needs_background": "light"
     },
     "output_type": "display_data"
    }
   ],
   "source": [
    "standard = log_loss(y, final_tree.predict_proba(transform_train))\n",
    "print(\"acc:\",)\n",
    "print(standard)\n",
    "print(standard*1.1)\n",
    "sklearn.tree.plot_tree(final_tree)"
   ]
  },
  {
   "cell_type": "code",
   "execution_count": 15,
   "id": "b10dd66c-f019-420d-8616-7db97ea13fb6",
   "metadata": {},
   "outputs": [],
   "source": [
    "import scipy"
   ]
  },
  {
   "cell_type": "code",
   "execution_count": 16,
   "id": "378f101e-9e97-4bfd-9ca7-1f9a4894d7c3",
   "metadata": {},
   "outputs": [
    {
     "name": "stderr",
     "output_type": "stream",
     "text": [
      "/tmp/ipykernel_325850/3322447366.py:2: FutureWarning: Unlike other reduction functions (e.g. `skew`, `kurtosis`), the default behavior of `mode` typically preserves the axis it acts along. In SciPy 1.11.0, this behavior will change: the default value of `keepdims` will become False, the `axis` over which the statistic is taken will be eliminated, and the value None will no longer be accepted. Set `keepdims` to True or False to avoid this warning.\n",
      "  scipy.stats.mode(depth_list)\n"
     ]
    },
    {
     "data": {
      "text/plain": [
       "ModeResult(mode=array([4]), count=array([52]))"
      ]
     },
     "execution_count": 16,
     "metadata": {},
     "output_type": "execute_result"
    }
   ],
   "source": [
    "depth_list = [ tree.get_depth() for tree in drf_model.model_[0]]\n",
    "scipy.stats.mode(depth_list)"
   ]
  },
  {
   "cell_type": "code",
   "execution_count": 17,
   "id": "8580ed63-67ad-49ed-9d52-e86f1534167f",
   "metadata": {},
   "outputs": [
    {
     "name": "stdout",
     "output_type": "stream",
     "text": [
      "layer: 0\n",
      "Transforming data...finished.\n",
      "number of trees under threshold 0\n",
      "best loss:0.37414721604414275, loss mean:0.4303665592559725, loss median:0.40535813675923604\n",
      "max accuracy 0.8402777777777778\n",
      "------------\n",
      "layer: 1\n",
      "Transforming data...finished.\n",
      "number of trees under threshold 65\n",
      "best loss:0.27581009154683445, loss mean:0.2949238255396006, loss median:0.2866390510124998\n",
      "max accuracy 0.9050925925925926\n",
      "------------\n",
      "layer: 2\n",
      "Transforming data...finished.\n",
      "number of trees under threshold 99\n",
      "best loss:0.20363763707341379, loss mean:0.2449990376464245, loss median:0.2402231462981356\n",
      "max accuracy 0.9282407407407407\n",
      "------------\n",
      "layer: 3\n",
      "Transforming data...finished.\n",
      "number of trees under threshold 99\n",
      "best loss:0.2005646778392068, loss mean:0.23211077172069253, loss median:0.22751151453470703\n",
      "max accuracy 0.9282407407407407\n",
      "------------\n"
     ]
    }
   ],
   "source": [
    "for layer in [0,1,2,3]:\n",
    "    print(\"layer:\",layer)\n",
    "    transform_train = drf_model.transform_data(X.values, stop_layer = layer)\n",
    "    loss_list = [log_loss(y, tree.predict_proba(transform_train)) for tree in drf_model.model_[layer]]\n",
    "    print(\"number of trees under threshold\", sum(loss_list < standard * 1.1 ))\n",
    "    print(f\"best loss:{np.min(loss_list)}, loss mean:{np.mean(loss_list)}, loss median:{np.median(loss_list)}\")\n",
    "    score_list = [tree.score(transform_train, y) for tree in drf_model.model_[layer]]\n",
    "    print(\"max accuracy\", max(score_list))\n",
    "    print('------------')"
   ]
  },
  {
   "cell_type": "code",
   "execution_count": 18,
   "id": "a92d6a04-6a47-45f1-b17e-e4e7f6eafa3b",
   "metadata": {},
   "outputs": [
    {
     "name": "stdout",
     "output_type": "stream",
     "text": [
      "Transforming data...finished.\n",
      "<class 'numpy.ndarray'>\n",
      "(1728, 100)\n"
     ]
    }
   ],
   "source": [
    "transform_train = drf_model.transform_data(X.values, stop_layer = 3)\n",
    "print(type(transform_train))\n",
    "print(transform_train.shape)"
   ]
  },
  {
   "cell_type": "code",
   "execution_count": 19,
   "id": "cdc27f4d-397a-480c-bbce-793f1cd18517",
   "metadata": {},
   "outputs": [
    {
     "data": {
      "text/html": [
       "<div>\n",
       "<style scoped>\n",
       "    .dataframe tbody tr th:only-of-type {\n",
       "        vertical-align: middle;\n",
       "    }\n",
       "\n",
       "    .dataframe tbody tr th {\n",
       "        vertical-align: top;\n",
       "    }\n",
       "\n",
       "    .dataframe thead th {\n",
       "        text-align: right;\n",
       "    }\n",
       "</style>\n",
       "<table border=\"1\" class=\"dataframe\">\n",
       "  <thead>\n",
       "    <tr style=\"text-align: right;\">\n",
       "      <th></th>\n",
       "      <th>V1</th>\n",
       "      <th>V2</th>\n",
       "      <th>V3</th>\n",
       "      <th>V4</th>\n",
       "      <th>V5</th>\n",
       "      <th>V6</th>\n",
       "      <th>V7</th>\n",
       "      <th>V8</th>\n",
       "      <th>V9</th>\n",
       "      <th>V10</th>\n",
       "      <th>...</th>\n",
       "      <th>V91</th>\n",
       "      <th>V92</th>\n",
       "      <th>V93</th>\n",
       "      <th>V94</th>\n",
       "      <th>V95</th>\n",
       "      <th>V96</th>\n",
       "      <th>V97</th>\n",
       "      <th>V98</th>\n",
       "      <th>V99</th>\n",
       "      <th>V100</th>\n",
       "    </tr>\n",
       "  </thead>\n",
       "  <tbody>\n",
       "    <tr>\n",
       "      <th>0</th>\n",
       "      <td>5</td>\n",
       "      <td>4</td>\n",
       "      <td>5</td>\n",
       "      <td>4</td>\n",
       "      <td>5</td>\n",
       "      <td>4</td>\n",
       "      <td>4</td>\n",
       "      <td>4</td>\n",
       "      <td>4</td>\n",
       "      <td>4</td>\n",
       "      <td>...</td>\n",
       "      <td>4</td>\n",
       "      <td>4</td>\n",
       "      <td>5</td>\n",
       "      <td>4</td>\n",
       "      <td>5</td>\n",
       "      <td>4</td>\n",
       "      <td>4</td>\n",
       "      <td>4</td>\n",
       "      <td>5</td>\n",
       "      <td>4</td>\n",
       "    </tr>\n",
       "    <tr>\n",
       "      <th>1</th>\n",
       "      <td>5</td>\n",
       "      <td>4</td>\n",
       "      <td>5</td>\n",
       "      <td>4</td>\n",
       "      <td>5</td>\n",
       "      <td>4</td>\n",
       "      <td>4</td>\n",
       "      <td>4</td>\n",
       "      <td>4</td>\n",
       "      <td>4</td>\n",
       "      <td>...</td>\n",
       "      <td>4</td>\n",
       "      <td>4</td>\n",
       "      <td>5</td>\n",
       "      <td>4</td>\n",
       "      <td>5</td>\n",
       "      <td>4</td>\n",
       "      <td>4</td>\n",
       "      <td>4</td>\n",
       "      <td>5</td>\n",
       "      <td>4</td>\n",
       "    </tr>\n",
       "    <tr>\n",
       "      <th>2</th>\n",
       "      <td>5</td>\n",
       "      <td>4</td>\n",
       "      <td>5</td>\n",
       "      <td>4</td>\n",
       "      <td>5</td>\n",
       "      <td>4</td>\n",
       "      <td>4</td>\n",
       "      <td>4</td>\n",
       "      <td>4</td>\n",
       "      <td>4</td>\n",
       "      <td>...</td>\n",
       "      <td>4</td>\n",
       "      <td>4</td>\n",
       "      <td>5</td>\n",
       "      <td>4</td>\n",
       "      <td>5</td>\n",
       "      <td>4</td>\n",
       "      <td>4</td>\n",
       "      <td>4</td>\n",
       "      <td>5</td>\n",
       "      <td>4</td>\n",
       "    </tr>\n",
       "    <tr>\n",
       "      <th>3</th>\n",
       "      <td>5</td>\n",
       "      <td>4</td>\n",
       "      <td>5</td>\n",
       "      <td>4</td>\n",
       "      <td>5</td>\n",
       "      <td>4</td>\n",
       "      <td>4</td>\n",
       "      <td>4</td>\n",
       "      <td>4</td>\n",
       "      <td>4</td>\n",
       "      <td>...</td>\n",
       "      <td>4</td>\n",
       "      <td>4</td>\n",
       "      <td>5</td>\n",
       "      <td>4</td>\n",
       "      <td>5</td>\n",
       "      <td>4</td>\n",
       "      <td>4</td>\n",
       "      <td>4</td>\n",
       "      <td>5</td>\n",
       "      <td>4</td>\n",
       "    </tr>\n",
       "    <tr>\n",
       "      <th>4</th>\n",
       "      <td>5</td>\n",
       "      <td>4</td>\n",
       "      <td>5</td>\n",
       "      <td>4</td>\n",
       "      <td>5</td>\n",
       "      <td>4</td>\n",
       "      <td>4</td>\n",
       "      <td>4</td>\n",
       "      <td>4</td>\n",
       "      <td>4</td>\n",
       "      <td>...</td>\n",
       "      <td>4</td>\n",
       "      <td>4</td>\n",
       "      <td>5</td>\n",
       "      <td>4</td>\n",
       "      <td>5</td>\n",
       "      <td>4</td>\n",
       "      <td>4</td>\n",
       "      <td>4</td>\n",
       "      <td>5</td>\n",
       "      <td>4</td>\n",
       "    </tr>\n",
       "  </tbody>\n",
       "</table>\n",
       "<p>5 rows × 100 columns</p>\n",
       "</div>"
      ],
      "text/plain": [
       "  V1 V2 V3 V4 V5 V6 V7 V8 V9 V10  ... V91 V92 V93 V94 V95 V96 V97 V98 V99 V100\n",
       "0  5  4  5  4  5  4  4  4  4   4  ...   4   4   5   4   5   4   4   4   5    4\n",
       "1  5  4  5  4  5  4  4  4  4   4  ...   4   4   5   4   5   4   4   4   5    4\n",
       "2  5  4  5  4  5  4  4  4  4   4  ...   4   4   5   4   5   4   4   4   5    4\n",
       "3  5  4  5  4  5  4  4  4  4   4  ...   4   4   5   4   5   4   4   4   5    4\n",
       "4  5  4  5  4  5  4  4  4  4   4  ...   4   4   5   4   5   4   4   4   5    4\n",
       "\n",
       "[5 rows x 100 columns]"
      ]
     },
     "execution_count": 19,
     "metadata": {},
     "output_type": "execute_result"
    }
   ],
   "source": [
    "V = [\"V\"+str(i) for i in range(1, len(transform_train[0])+1)]\n",
    "df_transform_train = pd.DataFrame(transform_train, columns = V, dtype = \"category\")\n",
    "df_transform_train.head()"
   ]
  },
  {
   "cell_type": "code",
   "execution_count": 20,
   "id": "138253d6-4112-4ca7-b20a-f00c487c8eb8",
   "metadata": {},
   "outputs": [],
   "source": [
    "for col in df_transform_train.columns:\n",
    "    # 進行 one-hot 編碼\n",
    "    dummies = pd.get_dummies(df_transform_train[col], prefix=col)\n",
    "    df_transform_train = pd.concat([df_transform_train, dummies], axis=1)\n",
    "    # 刪除原始特徵\n",
    "    df_transform_train.drop(col, axis=1, inplace=True)"
   ]
  },
  {
   "cell_type": "code",
   "execution_count": 21,
   "id": "1b260146-7733-4c59-939b-1288770b6de7",
   "metadata": {},
   "outputs": [
    {
     "name": "stdout",
     "output_type": "stream",
     "text": [
      "(1728, 600)\n",
      "(1728,)\n"
     ]
    }
   ],
   "source": [
    "print(df_transform_train.shape)\n",
    "print(y.shape)"
   ]
  },
  {
   "cell_type": "code",
   "execution_count": 22,
   "id": "92611422-2b72-4cfc-b8f9-105589e76bfd",
   "metadata": {},
   "outputs": [
    {
     "data": {
      "text/plain": [
       "0       2\n",
       "1       2\n",
       "2       2\n",
       "3       2\n",
       "4       2\n",
       "       ..\n",
       "1723    1\n",
       "1724    3\n",
       "1725    2\n",
       "1726    1\n",
       "1727    3\n",
       "Length: 1728, dtype: int64"
      ]
     },
     "execution_count": 22,
     "metadata": {},
     "output_type": "execute_result"
    }
   ],
   "source": [
    "y_series = pd.Series(y)\n",
    "y_series"
   ]
  },
  {
   "cell_type": "code",
   "execution_count": 39,
   "id": "66dd5eb4-fea4-4e2e-a4b2-841e152b7864",
   "metadata": {
    "tags": []
   },
   "outputs": [
    {
     "name": "stdout",
     "output_type": "stream",
     "text": [
      "null\n",
      "Finding Optimal Objective...\n",
      "treefarms reported successful execution\n",
      "training completed. Number of trees in the Rashomon set: 200\n"
     ]
    },
    {
     "data": {
      "text/plain": [
       "<treefarms.model.treefarms.TREEFARMS at 0x7fe328f7dd90>"
      ]
     },
     "execution_count": 39,
     "metadata": {},
     "output_type": "execute_result"
    },
    {
     "name": "stdout",
     "output_type": "stream",
     "text": [
      "{\n",
      "  \"complexity\": 0.20000000298023224,\n",
      "  \"loss\": 0.29976850748062134,\n",
      "  \"model_objective\": 0.4997684955596924,\n",
      "  \"name\": \"class\",\n",
      "  \"prediction\": 2\n",
      "}\n"
     ]
    }
   ],
   "source": [
    "# train TREEFARMS model\n",
    "config = {\n",
    "    \"regularization\": 0.2,  # regularization penalizes the tree with more leaves. We recommend to set it to relative high value to find a sparse tree.\n",
    "    \"rashomon_bound_multiplier\": 0.1,  # rashomon bound multiplier indicates how large of a Rashomon set would you like to get\n",
    "}\n",
    "drf_treefarms_model = TREEFARMS(config)\n",
    "drf_treefarms_model.fit(df_transform_train, y_series)\n"
   ]
  },
  {
   "cell_type": "code",
   "execution_count": 30,
   "id": "d7f911f5-6cb4-45d8-ba67-a3c93c7aa1ad",
   "metadata": {},
   "outputs": [
    {
     "data": {
      "text/plain": [
       "treefarms.model.tree_classifier.TreeClassifier"
      ]
     },
     "execution_count": 30,
     "metadata": {},
     "output_type": "execute_result"
    }
   ],
   "source": []
  },
  {
   "cell_type": "code",
   "execution_count": 33,
   "id": "d65240f1-56d0-4f89-8126-ace8fc0a8b87",
   "metadata": {},
   "outputs": [
    {
     "name": "stdout",
     "output_type": "stream",
     "text": [
      "max acc 0.8877314814814815\n",
      "median acc 0.8807870370370371\n"
     ]
    }
   ],
   "source": [
    "# first_tree = drf_treefarms_model[1]\n",
    "drf_treefarms_acc = []\n",
    "for i in range(0,180):\n",
    "    drf_treefarms_acc.append(drf_treefarms_model[i].score(df_transform_train, y_series))\n",
    "# # get the results\n",
    "# train_acc = first_tree.score(df_transform_train, y)\n",
    "# n_leaves = first_tree.leaves()\n",
    "# n_nodes = first_tree.nodes()\n",
    "\n",
    "# print(\"Training accuracy: {}\".format(train_acc))\n",
    "# print(\"# of leaves: {}\".format(n_leaves))\n",
    "# print(first_tree)"
   ]
  },
  {
   "cell_type": "code",
   "execution_count": null,
   "id": "c92831d3-3cdf-4337-b5f8-d9d05b32e1be",
   "metadata": {},
   "outputs": [],
   "source": [
    "\n",
    "print(\"max acc\",np.max(drf_treefarms_acc))\n",
    "print(\"median acc\", np.median(drf_treefarms_acc))"
   ]
  }
 ],
 "metadata": {
  "kernelspec": {
   "display_name": "Pytorch",
   "language": "python",
   "name": "pytorch"
  },
  "language_info": {
   "codemirror_mode": {
    "name": "ipython",
    "version": 3
   },
   "file_extension": ".py",
   "mimetype": "text/x-python",
   "name": "python",
   "nbconvert_exporter": "python",
   "pygments_lexer": "ipython3",
   "version": "3.9.7"
  }
 },
 "nbformat": 4,
 "nbformat_minor": 5
}
