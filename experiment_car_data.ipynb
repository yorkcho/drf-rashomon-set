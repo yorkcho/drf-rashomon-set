{
 "cells": [
  {
   "cell_type": "code",
   "execution_count": 1,
   "id": "c78f92c9-e7dc-422a-a629-293542fb3561",
   "metadata": {},
   "outputs": [],
   "source": [
    "# Import the package\n",
    "import pandas as pd\n",
    "import numpy as np\n",
    "from pydrf.model import DRFModel \n",
    "from sklearn import datasets\n",
    "from sklearn.model_selection import train_test_split\n",
    "import sklearn.tree\n",
    "from treefarms import TREEFARMS\n",
    "from sklearn.tree import DecisionTreeClassifier\n",
    "from sklearn.metrics import accuracy_score\n",
    "from pydrf.order import CategoryOrderEncoder\n"
   ]
  },
  {
   "cell_type": "code",
   "execution_count": 2,
   "id": "d891e4f2-7c69-4b57-bd13-131ec51cd21c",
   "metadata": {},
   "outputs": [],
   "source": [
    "from ucimlrepo import fetch_ucirepo \n",
    "# fetch dataset \n",
    "car_evaluation = fetch_ucirepo(id=19) \n",
    "# data (as pandas dataframes) \n",
    "car_X = car_evaluation.data.features \n",
    "car_y = car_evaluation.data.targets \n"
   ]
  },
  {
   "cell_type": "code",
   "execution_count": 6,
   "id": "22f911bf-a99d-497a-bfe8-f0632769d9f1",
   "metadata": {},
   "outputs": [],
   "source": [
    "# len(X.columns)\n",
    "for i in car_X.columns:\n",
    "    temp = car_X.copy()\n",
    "    temp[i] = car_X[i].astype(str)\n",
    "X = temp"
   ]
  },
  {
   "cell_type": "code",
   "execution_count": 7,
   "id": "155aa8ac-bad3-45cf-ad45-7298b579847f",
   "metadata": {},
   "outputs": [],
   "source": [
    "\n",
    "# X['buying'] = X['buying'].astype(str)\n",
    "# X['maint'] = X['maint'].astype(str)\n",
    "# X['lug_boot'] = X['lug_boot'].astype(str)\n",
    "# X['safety'] = X['safety'].astype(str)\n",
    "# X['doors'] = X['doors'].astype(str)\n",
    "# X['persons'] = X['persons'].astype(str)\n",
    "# # y['class'] = y['class'].astype(str)"
   ]
  },
  {
   "cell_type": "code",
   "execution_count": 8,
   "id": "d5253d07-cc15-4f69-8c07-29b3fb7c11b7",
   "metadata": {},
   "outputs": [
    {
     "name": "stderr",
     "output_type": "stream",
     "text": [
      "/opt/miniconda3/envs/Pytorch/lib/python3.9/site-packages/sklearn/preprocessing/_label.py:134: DataConversionWarning: A column-vector y was passed when a 1d array was expected. Please change the shape of y to (n_samples, ), for example using ravel().\n",
      "  y = column_or_1d(y, dtype=self.classes_.dtype, warn=True)\n"
     ]
    },
    {
     "data": {
      "text/plain": [
       "array([0, 1, 2, 3])"
      ]
     },
     "execution_count": 8,
     "metadata": {},
     "output_type": "execute_result"
    }
   ],
   "source": [
    "# X.columns[]\n",
    "from sklearn.preprocessing import LabelEncoder\n",
    "le = LabelEncoder()\n",
    "le.fit(['acc', 'good', 'unacc', 'vgood'])\n",
    "y= le.transform(car_y)\n",
    "np.unique(y)"
   ]
  },
  {
   "cell_type": "code",
   "execution_count": 9,
   "id": "d502a73e-6afd-44c8-b437-fcf3163fe7aa",
   "metadata": {},
   "outputs": [],
   "source": [
    "# category encoder\n",
    "encoder = CategoryOrderEncoder()\n",
    "categories =  X.columns[X.dtypes== \"object\"]\n",
    "encoder.fit(X, y, categories)\n",
    "X = encoder.transform(X)\n",
    "y = np.ravel(y)"
   ]
  },
  {
   "cell_type": "code",
   "execution_count": 10,
   "id": "beb0bebd-0073-4a2d-88b2-647482c92029",
   "metadata": {},
   "outputs": [
    {
     "data": {
      "text/plain": [
       "array([2, 2, 2, ..., 2, 1, 3])"
      ]
     },
     "execution_count": 10,
     "metadata": {},
     "output_type": "execute_result"
    }
   ],
   "source": [
    "y"
   ]
  },
  {
   "cell_type": "code",
   "execution_count": 26,
   "id": "d8f3f322-43d0-495f-b3b0-fcadfa748900",
   "metadata": {},
   "outputs": [
    {
     "name": "stdout",
     "output_type": "stream",
     "text": [
      "Layer 0 training...finished.\n",
      "Layer 1 training...finished.\n",
      "Layer 2 training...finished.\n",
      "Layer 3 training...finished.\n",
      "Layer 4 training...finished.\n"
     ]
    }
   ],
   "source": [
    "# Define the structure of DRF\n",
    "param_list = [\n",
    "    [{\"max_leaf_nodes\":6, \"n_estimators\":100, \"max_features\":0.8}],\n",
    "    [{\"max_leaf_nodes\":6, \"n_estimators\":100, \"max_features\":0.8}],\n",
    "    [{\"max_leaf_nodes\":6, \"n_estimators\":100, \"max_features\":0.8}],\n",
    "    [{\"max_leaf_nodes\":6, \"n_estimators\":100, \"max_features\":0.8}],\n",
    "    [{\"max_leaf_nodes\":6, \"n_estimators\":100, \"max_features\":0.8}]\n",
    "    ]\n",
    "\n",
    "# Fit the model\n",
    "drf = DRFModel(parallel_cores=5, parameter_list = param_list)\n",
    "drf_model = drf.fit(X, y)\n"
   ]
  },
  {
   "cell_type": "code",
   "execution_count": 27,
   "id": "79eda1a6-1158-4355-a0dc-ebea375472a7",
   "metadata": {},
   "outputs": [
    {
     "name": "stdout",
     "output_type": "stream",
     "text": [
      "Transforming data...finished.\n"
     ]
    },
    {
     "data": {
      "text/html": [
       "<style>#sk-container-id-2 {color: black;background-color: white;}#sk-container-id-2 pre{padding: 0;}#sk-container-id-2 div.sk-toggleable {background-color: white;}#sk-container-id-2 label.sk-toggleable__label {cursor: pointer;display: block;width: 100%;margin-bottom: 0;padding: 0.3em;box-sizing: border-box;text-align: center;}#sk-container-id-2 label.sk-toggleable__label-arrow:before {content: \"▸\";float: left;margin-right: 0.25em;color: #696969;}#sk-container-id-2 label.sk-toggleable__label-arrow:hover:before {color: black;}#sk-container-id-2 div.sk-estimator:hover label.sk-toggleable__label-arrow:before {color: black;}#sk-container-id-2 div.sk-toggleable__content {max-height: 0;max-width: 0;overflow: hidden;text-align: left;background-color: #f0f8ff;}#sk-container-id-2 div.sk-toggleable__content pre {margin: 0.2em;color: black;border-radius: 0.25em;background-color: #f0f8ff;}#sk-container-id-2 input.sk-toggleable__control:checked~div.sk-toggleable__content {max-height: 200px;max-width: 100%;overflow: auto;}#sk-container-id-2 input.sk-toggleable__control:checked~label.sk-toggleable__label-arrow:before {content: \"▾\";}#sk-container-id-2 div.sk-estimator input.sk-toggleable__control:checked~label.sk-toggleable__label {background-color: #d4ebff;}#sk-container-id-2 div.sk-label input.sk-toggleable__control:checked~label.sk-toggleable__label {background-color: #d4ebff;}#sk-container-id-2 input.sk-hidden--visually {border: 0;clip: rect(1px 1px 1px 1px);clip: rect(1px, 1px, 1px, 1px);height: 1px;margin: -1px;overflow: hidden;padding: 0;position: absolute;width: 1px;}#sk-container-id-2 div.sk-estimator {font-family: monospace;background-color: #f0f8ff;border: 1px dotted black;border-radius: 0.25em;box-sizing: border-box;margin-bottom: 0.5em;}#sk-container-id-2 div.sk-estimator:hover {background-color: #d4ebff;}#sk-container-id-2 div.sk-parallel-item::after {content: \"\";width: 100%;border-bottom: 1px solid gray;flex-grow: 1;}#sk-container-id-2 div.sk-label:hover label.sk-toggleable__label {background-color: #d4ebff;}#sk-container-id-2 div.sk-serial::before {content: \"\";position: absolute;border-left: 1px solid gray;box-sizing: border-box;top: 0;bottom: 0;left: 50%;z-index: 0;}#sk-container-id-2 div.sk-serial {display: flex;flex-direction: column;align-items: center;background-color: white;padding-right: 0.2em;padding-left: 0.2em;position: relative;}#sk-container-id-2 div.sk-item {position: relative;z-index: 1;}#sk-container-id-2 div.sk-parallel {display: flex;align-items: stretch;justify-content: center;background-color: white;position: relative;}#sk-container-id-2 div.sk-item::before, #sk-container-id-2 div.sk-parallel-item::before {content: \"\";position: absolute;border-left: 1px solid gray;box-sizing: border-box;top: 0;bottom: 0;left: 50%;z-index: -1;}#sk-container-id-2 div.sk-parallel-item {display: flex;flex-direction: column;z-index: 1;position: relative;background-color: white;}#sk-container-id-2 div.sk-parallel-item:first-child::after {align-self: flex-end;width: 50%;}#sk-container-id-2 div.sk-parallel-item:last-child::after {align-self: flex-start;width: 50%;}#sk-container-id-2 div.sk-parallel-item:only-child::after {width: 0;}#sk-container-id-2 div.sk-dashed-wrapped {border: 1px dashed gray;margin: 0 0.4em 0.5em 0.4em;box-sizing: border-box;padding-bottom: 0.4em;background-color: white;}#sk-container-id-2 div.sk-label label {font-family: monospace;font-weight: bold;display: inline-block;line-height: 1.2em;}#sk-container-id-2 div.sk-label-container {text-align: center;}#sk-container-id-2 div.sk-container {/* jupyter's `normalize.less` sets `[hidden] { display: none; }` but bootstrap.min.css set `[hidden] { display: none !important; }` so we also need the `!important` here to be able to override the default hidden behavior on the sphinx rendered scikit-learn.org. See: https://github.com/scikit-learn/scikit-learn/issues/21755 */display: inline-block !important;position: relative;}#sk-container-id-2 div.sk-text-repr-fallback {display: none;}</style><div id=\"sk-container-id-2\" class=\"sk-top-container\"><div class=\"sk-text-repr-fallback\"><pre>DecisionTreeClassifier(max_depth=2)</pre><b>In a Jupyter environment, please rerun this cell to show the HTML representation or trust the notebook. <br />On GitHub, the HTML representation is unable to render, please try loading this page with nbviewer.org.</b></div><div class=\"sk-container\" hidden><div class=\"sk-item\"><div class=\"sk-estimator sk-toggleable\"><input class=\"sk-toggleable__control sk-hidden--visually\" id=\"sk-estimator-id-2\" type=\"checkbox\" checked><label for=\"sk-estimator-id-2\" class=\"sk-toggleable__label sk-toggleable__label-arrow\">DecisionTreeClassifier</label><div class=\"sk-toggleable__content\"><pre>DecisionTreeClassifier(max_depth=2)</pre></div></div></div></div></div>"
      ],
      "text/plain": [
       "DecisionTreeClassifier(max_depth=2)"
      ]
     },
     "execution_count": 27,
     "metadata": {},
     "output_type": "execute_result"
    }
   ],
   "source": [
    "# 5th layer + decision tree as empirical risk minimizer model\n",
    "transform_train = drf_model.transform_data(X.values, stop_layer = 5)\n",
    "standard_tree = DecisionTreeClassifier(max_depth=2)\n",
    "standard_tree.fit(transform_train, y)\n"
   ]
  },
  {
   "cell_type": "code",
   "execution_count": 28,
   "id": "9df8c0f5-2ce4-444b-9f3a-4d2118a82c4c",
   "metadata": {},
   "outputs": [
    {
     "name": "stdout",
     "output_type": "stream",
     "text": [
      "0.8952546296296297\n"
     ]
    }
   ],
   "source": [
    "print(standard_tree.score(transform_train,y))"
   ]
  },
  {
   "cell_type": "code",
   "execution_count": 29,
   "id": "b0c82fff-cd09-4da0-ab61-a911bf79fbf3",
   "metadata": {},
   "outputs": [
    {
     "name": "stdout",
     "output_type": "stream",
     "text": [
      "0.26989937905878675\n",
      "0.2968893169646655\n"
     ]
    },
    {
     "data": {
      "text/plain": [
       "[Text(0.6, 0.8333333333333334, 'x[29] <= 5.5\\ngini = 0.457\\nsamples = 1728\\nvalue = [384, 69, 1210, 65]'),\n",
       " Text(0.4, 0.5, 'x[24] <= 2.5\\ngini = 0.518\\nsamples = 576\\nvalue = [384, 69, 58, 65]'),\n",
       " Text(0.2, 0.16666666666666666, 'gini = 0.35\\nsamples = 432\\nvalue = [343, 20, 56, 13]'),\n",
       " Text(0.6, 0.16666666666666666, 'gini = 0.673\\nsamples = 144\\nvalue = [41, 49, 2, 52]'),\n",
       " Text(0.8, 0.5, 'gini = 0.0\\nsamples = 1152\\nvalue = [0, 0, 1152, 0]')]"
      ]
     },
     "execution_count": 29,
     "metadata": {},
     "output_type": "execute_result"
    },
    {
     "data": {
      "image/png": "[encoded data removed]",
      "text/plain": [
       "<Figure size 432x288 with 1 Axes>"
      ]
     },
     "metadata": {
      "needs_background": "light"
     },
     "output_type": "display_data"
    }
   ],
   "source": [
    "from sklearn.metrics import log_loss\n",
    "standard = log_loss(y, standard_tree.predict_proba(transform_train))\n",
    "print(standard)\n",
    "print(standard*1.1)\n",
    "sklearn.tree.plot_tree(standard_tree)"
   ]
  },
  {
   "cell_type": "code",
   "execution_count": 30,
   "id": "82d8f4fe-3005-4cc4-ab34-01ab8ca7e823",
   "metadata": {},
   "outputs": [],
   "source": [
    "# m = drf_model.model_[1][0]\n",
    "# sklearn.tree.plot_tree(m)\n"
   ]
  },
  {
   "cell_type": "code",
   "execution_count": 31,
   "id": "9c160208-70f1-4667-9b20-efab138bcd00",
   "metadata": {},
   "outputs": [],
   "source": [
    "# m.score(transform_train, y)"
   ]
  },
  {
   "cell_type": "code",
   "execution_count": 32,
   "id": "dbd33cec-8bd1-4872-b4b5-fbb8e175708b",
   "metadata": {},
   "outputs": [],
   "source": [
    "# loss_list < standard*1.1 # 先對這些做篩選，看有幾個屬於R set\n",
    "# transform_train = drf_model.transform_data(X.values, stop_layer = 4)\n",
    "# score_list = [tree.score(transform_train, y) for tree in drf_model.model_[4]]\n",
    "# print(\"max accuracy\", max(score_list))"
   ]
  },
  {
   "cell_type": "code",
   "execution_count": 33,
   "id": "847ef534-c35d-4d64-8639-831977cb4832",
   "metadata": {},
   "outputs": [
    {
     "name": "stdout",
     "output_type": "stream",
     "text": [
      "Transforming data...finished.\n",
      "number under threshold 98\n",
      "mean loss: 0.22987926473090348\n",
      "max accuracy 0.9259259259259259\n"
     ]
    }
   ],
   "source": [
    "layer = 4\n",
    "transform_train = drf_model.transform_data(X.values, stop_layer = layer)\n",
    "loss_list = [log_loss(y, tree.predict_proba(transform_train)) for tree in drf_model.model_[layer]]\n",
    "print(\"number under threshold\", sum(loss_list < standard * 1.1 ))\n",
    "print(\"mean loss:\", np.mean(loss_list))\n",
    "score_list = [tree.score(transform_train, y) for tree in drf_model.model_[layer]]\n",
    "print(\"max accuracy\", max(score_list))"
   ]
  },
  {
   "cell_type": "code",
   "execution_count": 34,
   "id": "b5b64ceb-4366-4f23-a6f2-6daead1990b0",
   "metadata": {},
   "outputs": [
    {
     "name": "stdout",
     "output_type": "stream",
     "text": [
      "Transforming data...finished.\n",
      "number under threshold 99\n",
      "mean loss: 0.23295186010263177\n",
      "max accuracy 0.9259259259259259\n"
     ]
    }
   ],
   "source": [
    "layer = 3\n",
    "transform_train = drf_model.transform_data(X.values, stop_layer = layer)\n",
    "loss_list = [log_loss(y, tree.predict_proba(transform_train)) for tree in drf_model.model_[layer]]\n",
    "print(\"number under threshold\",sum(loss_list < standard*1.1 ))\n",
    "print(\"mean loss:\", np.mean(loss_list ))\n",
    "score_list = [tree.score(transform_train, y) for tree in drf_model.model_[layer]]\n",
    "print(\"max accuracy\",max(score_list))"
   ]
  },
  {
   "cell_type": "code",
   "execution_count": 35,
   "id": "d0cd9ce5-1f7c-4070-bd7f-e34ade6f93ca",
   "metadata": {},
   "outputs": [
    {
     "name": "stdout",
     "output_type": "stream",
     "text": [
      "Transforming data...finished.\n",
      "number under threshold 97\n",
      "mean loss: 0.24588331389922222\n",
      "max accuracy 0.9259259259259259\n"
     ]
    }
   ],
   "source": [
    "layer = 2\n",
    "transform_train = drf_model.transform_data(X.values, stop_layer = layer)\n",
    "loss_list = [log_loss(y, tree.predict_proba(transform_train)) for tree in drf_model.model_[layer]]\n",
    "print(\"number under threshold\",sum(loss_list < standard*1.1 ))\n",
    "print(\"mean loss:\", np.mean(loss_list ))\n",
    "score_list = [tree.score(transform_train, y) for tree in drf_model.model_[layer]]\n",
    "print(\"max accuracy\",max(score_list))"
   ]
  },
  {
   "cell_type": "code",
   "execution_count": 36,
   "id": "b75f462a-a543-4925-8628-72e42a4d2f49",
   "metadata": {},
   "outputs": [
    {
     "name": "stdout",
     "output_type": "stream",
     "text": [
      "Transforming data...finished.\n",
      "number under threshold 63\n",
      "mean loss: 0.2996728375096264\n",
      "max accuracy 0.9039351851851852\n"
     ]
    }
   ],
   "source": [
    "layer = 1\n",
    "transform_train = drf_model.transform_data(X.values, stop_layer = layer)\n",
    "loss_list = [log_loss(y, tree.predict_proba(transform_train)) for tree in drf_model.model_[layer]]\n",
    "print(\"number under threshold\",sum(loss_list < standard*1.1 ))\n",
    "print(\"mean loss:\", np.mean(loss_list ))\n",
    "score_list = [tree.score(transform_train, y) for tree in drf_model.model_[layer]]\n",
    "print(\"max accuracy\",max(score_list))"
   ]
  },
  {
   "cell_type": "code",
   "execution_count": 37,
   "id": "210475f1-25de-4832-9e6f-f69fc3189cbb",
   "metadata": {},
   "outputs": [
    {
     "name": "stdout",
     "output_type": "stream",
     "text": [
      "Transforming data...finished.\n",
      "number under threshold 0\n",
      "mean loss: 0.4235890083738601\n",
      "max accuracy 0.8402777777777778\n"
     ]
    }
   ],
   "source": [
    "layer = 0\n",
    "transform_train = drf_model.transform_data(X.values, stop_layer = layer)\n",
    "loss_list = [log_loss(y, tree.predict_proba(transform_train)) for tree in drf_model.model_[layer]]\n",
    "print(\"number under threshold\",sum(loss_list < standard*1.1 ))\n",
    "print(\"mean loss:\", np.mean(loss_list ))\n",
    "score_list = [tree.score(transform_train, y) for tree in drf_model.model_[layer]]\n",
    "print(\"max accuracy\",max(score_list))"
   ]
  },
  {
   "cell_type": "code",
   "execution_count": null,
   "id": "2a454db3-31f6-4659-9735-eb17c4cc76bc",
   "metadata": {},
   "outputs": [],
   "source": []
  }
 ],
 "metadata": {
  "kernelspec": {
   "display_name": "Pytorch",
   "language": "python",
   "name": "pytorch"
  },
  "language_info": {
   "codemirror_mode": {
    "name": "ipython",
    "version": 3
   },
   "file_extension": ".py",
   "mimetype": "text/x-python",
   "name": "python",
   "nbconvert_exporter": "python",
   "pygments_lexer": "ipython3",
   "version": "3.9.7"
  }
 },
 "nbformat": 4,
 "nbformat_minor": 5
}
